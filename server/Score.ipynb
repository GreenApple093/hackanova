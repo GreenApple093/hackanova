{
  "cells": [
    {
      "cell_type": "markdown",
      "metadata": {
        "id": "a25zBnsv1ODR"
      },
      "source": [
        "<h1>pip</h1>"
      ]
    },
    {
      "cell_type": "code",
      "execution_count": 21,
      "metadata": {
        "colab": {
          "base_uri": "https://localhost:8080/"
        },
        "id": "7LZ-IyMGuVeF",
        "outputId": "9e638edb-cf11-4f24-9afb-44b241d8e813"
      },
      "outputs": [
        {
          "name": "stdout",
          "output_type": "stream",
          "text": [
            "Requirement already satisfied: torch in c:\\users\\harshal shah\\appdata\\roaming\\python\\python312\\site-packages (2.6.0)\n",
            "Requirement already satisfied: torchvision in c:\\users\\harshal shah\\appdata\\roaming\\python\\python312\\site-packages (0.21.0)\n",
            "Requirement already satisfied: opencv-python in c:\\users\\harshal shah\\appdata\\roaming\\python\\python312\\site-packages (4.11.0.86)\n",
            "Requirement already satisfied: matplotlib in c:\\users\\harshal shah\\appdata\\roaming\\python\\python312\\site-packages (3.10.0)\n",
            "Requirement already satisfied: facenet-pytorch in c:\\python312\\lib\\site-packages (2.5.3)\n",
            "Requirement already satisfied: filelock in c:\\users\\harshal shah\\appdata\\roaming\\python\\python312\\site-packages (from torch) (3.17.0)\n",
            "Requirement already satisfied: typing-extensions>=4.10.0 in c:\\users\\harshal shah\\appdata\\roaming\\python\\python312\\site-packages (from torch) (4.12.2)\n",
            "Requirement already satisfied: networkx in c:\\users\\harshal shah\\appdata\\roaming\\python\\python312\\site-packages (from torch) (3.4.2)\n",
            "Requirement already satisfied: jinja2 in c:\\users\\harshal shah\\appdata\\roaming\\python\\python312\\site-packages (from torch) (3.1.5)\n",
            "Requirement already satisfied: fsspec in c:\\users\\harshal shah\\appdata\\roaming\\python\\python312\\site-packages (from torch) (2025.2.0)\n",
            "Requirement already satisfied: setuptools in c:\\users\\harshal shah\\appdata\\roaming\\python\\python312\\site-packages (from torch) (75.8.0)\n",
            "Requirement already satisfied: sympy==1.13.1 in c:\\users\\harshal shah\\appdata\\roaming\\python\\python312\\site-packages (from torch) (1.13.1)\n",
            "Requirement already satisfied: mpmath<1.4,>=1.1.0 in c:\\users\\harshal shah\\appdata\\roaming\\python\\python312\\site-packages (from sympy==1.13.1->torch) (1.3.0)\n",
            "Requirement already satisfied: numpy in c:\\python312\\lib\\site-packages (from torchvision) (2.2.3)\n",
            "Requirement already satisfied: pillow!=8.3.*,>=5.3.0 in c:\\python312\\lib\\site-packages (from torchvision) (11.1.0)\n",
            "Requirement already satisfied: contourpy>=1.0.1 in c:\\users\\harshal shah\\appdata\\roaming\\python\\python312\\site-packages (from matplotlib) (1.3.1)\n",
            "Requirement already satisfied: cycler>=0.10 in c:\\users\\harshal shah\\appdata\\roaming\\python\\python312\\site-packages (from matplotlib) (0.12.1)\n",
            "Requirement already satisfied: fonttools>=4.22.0 in c:\\python312\\lib\\site-packages (from matplotlib) (4.55.8)\n",
            "Requirement already satisfied: kiwisolver>=1.3.1 in c:\\python312\\lib\\site-packages (from matplotlib) (1.4.8)\n",
            "Requirement already satisfied: packaging>=20.0 in c:\\python312\\lib\\site-packages (from matplotlib) (24.2)\n",
            "Requirement already satisfied: pyparsing>=2.3.1 in c:\\python312\\lib\\site-packages (from matplotlib) (3.2.1)\n",
            "Requirement already satisfied: python-dateutil>=2.7 in c:\\users\\harshal shah\\appdata\\roaming\\python\\python312\\site-packages (from matplotlib) (2.9.0.post0)\n",
            "Requirement already satisfied: requests in c:\\users\\harshal shah\\appdata\\roaming\\python\\python312\\site-packages (from facenet-pytorch) (2.32.3)\n",
            "Requirement already satisfied: six>=1.5 in c:\\python312\\lib\\site-packages (from python-dateutil>=2.7->matplotlib) (1.17.0)\n",
            "Requirement already satisfied: MarkupSafe>=2.0 in c:\\users\\harshal shah\\appdata\\roaming\\python\\python312\\site-packages (from jinja2->torch) (3.0.2)\n",
            "Requirement already satisfied: charset-normalizer<4,>=2 in c:\\users\\harshal shah\\appdata\\roaming\\python\\python312\\site-packages (from requests->facenet-pytorch) (3.4.1)\n",
            "Requirement already satisfied: idna<4,>=2.5 in c:\\users\\harshal shah\\appdata\\roaming\\python\\python312\\site-packages (from requests->facenet-pytorch) (3.10)\n",
            "Requirement already satisfied: urllib3<3,>=1.21.1 in c:\\users\\harshal shah\\appdata\\roaming\\python\\python312\\site-packages (from requests->facenet-pytorch) (2.3.0)\n",
            "Requirement already satisfied: certifi>=2017.4.17 in c:\\users\\harshal shah\\appdata\\roaming\\python\\python312\\site-packages (from requests->facenet-pytorch) (2025.1.31)\n",
            "Note: you may need to restart the kernel to use updated packages.\n"
          ]
        }
      ],
      "source": [
        "# Install necessary libraries\n",
        "%pip install torch torchvision opencv-python matplotlib facenet-pytorch"
      ]
    },
    {
      "cell_type": "markdown",
      "metadata": {
        "id": "Jhrq8B191SkX"
      },
      "source": [
        "<h1>Dependencies</h1>"
      ]
    },
    {
      "cell_type": "code",
      "execution_count": 22,
      "metadata": {
        "colab": {
          "base_uri": "https://localhost:8080/"
        },
        "id": "04ZIgR010zdq",
        "outputId": "7dbee81c-83a7-4319-fb0a-0e87a5be3e4d"
      },
      "outputs": [
        {
          "name": "stdout",
          "output_type": "stream",
          "text": [
            "Using device: cpu\n"
          ]
        }
      ],
      "source": [
        "import torch\n",
        "import torchvision.models as models\n",
        "import cv2\n",
        "import numpy as np\n",
        "from scipy.spatial.distance import cosine\n",
        "from torchvision import transforms\n",
        "import torchvision.transforms as transforms\n",
        "from facenet_pytorch import MTCNN\n",
        "from PIL import Image\n",
        "\n",
        "device = torch.device('cuda' if torch.cuda.is_available() else 'cpu')\n",
        "print(f\"Using device: {device}\")"
      ]
    },
    {
      "cell_type": "markdown",
      "metadata": {
        "id": "vi3wI8al2iAg"
      },
      "source": [
        "<h1>Face Distortion</h1>"
      ]
    },
    {
      "cell_type": "markdown",
      "metadata": {
        "id": "yWUTdzeo2n9Y"
      },
      "source": [
        "<h4>Loading pre trained model</h4>"
      ]
    },
    {
      "cell_type": "code",
      "execution_count": 45,
      "metadata": {
        "colab": {
          "base_uri": "https://localhost:8080/"
        },
        "id": "0OSruOZQ2tjZ",
        "outputId": "7e1cb27d-7236-4457-916f-508c4b4bc9d5"
      },
      "outputs": [
        {
          "name": "stderr",
          "output_type": "stream",
          "text": [
            "Using cache found in C:\\Users\\Harshal Shah/.cache\\torch\\hub\\pytorch_vision_v0.10.0\n"
          ]
        }
      ],
      "source": [
        "# Load MTCNN for face detection\n",
        "mtcnn = MTCNN(keep_all=True, device=device)\n",
        "\n",
        "# Load a pre-trained MobileNetV2 model for deepfake detection\n",
        "mobilenet_model = torch.hub.load('pytorch/vision:v0.10.0', 'mobilenet_v2', pretrained=True).to(device)\n",
        "mobilenet_model.eval()\n",
        "\n",
        "# Modify the final layer for binary classification (Real/Fake)\n",
        "num_ftrs = mobilenet_model.classifier[1].in_features\n",
        "mobilenet_model.classifier[1] = torch.nn.Linear(num_ftrs, 2).to(device)\n",
        "\n",
        "# Define preprocessing transformations for MobileNetV2\n",
        "transform = transforms.Compose([\n",
        "    transforms.Resize((224, 224)),  # Resize to match the input size of MobileNetV2\n",
        "    transforms.ToTensor(),\n",
        "    transforms.Normalize([0.485, 0.456, 0.406], [0.229, 0.224, 0.225])  # Normalize the image\n",
        "])"
      ]
    },
    {
      "cell_type": "markdown",
      "metadata": {
        "id": "OrqjrB3r61U7"
      },
      "source": [
        "<h4>Detection</h4>"
      ]
    },
    {
      "cell_type": "code",
      "execution_count": 46,
      "metadata": {
        "id": "Jr-G-dvc65FS"
      },
      "outputs": [],
      "source": [
        "# Function to detect deepfakes in real-time\n",
        "def detect_deepfakes(video_path, skip_frames=5):\n",
        "    cap = cv2.VideoCapture(video_path)\n",
        "    if not cap.isOpened():\n",
        "        print(f\"Error: Could not open video at path {video_path}\")\n",
        "        return 0, 0\n",
        "\n",
        "    frame_count = 0\n",
        "    total_frames = 0\n",
        "    distorted_faces = 0\n",
        "    example_abnormal_frame = None  # To store one example of an abnormal frame\n",
        "\n",
        "    while cap.isOpened():\n",
        "        ret, frame = cap.read()\n",
        "        if not ret:\n",
        "            break\n",
        "\n",
        "        # Skip frames to reduce processing load\n",
        "        frame_count += 1\n",
        "        if frame_count % skip_frames != 0:\n",
        "            continue\n",
        "\n",
        "        # Increment total frame count\n",
        "        total_frames += 1\n",
        "\n",
        "        # Convert frame to RGB for MTCNN\n",
        "        rgb_frame = cv2.cvtColor(frame, cv2.COLOR_BGR2RGB)\n",
        "\n",
        "        # Detect faces using MTCNN\n",
        "        boxes, _ = mtcnn.detect(rgb_frame)\n",
        "        if boxes is None:\n",
        "            continue\n",
        "\n",
        "        # Process each detected face\n",
        "        for box in boxes:\n",
        "            x1, y1, x2, y2 = map(int, box)\n",
        "            face = rgb_frame[y1:y2, x1:x2]\n",
        "\n",
        "            # Preprocess the face for MobileNetV2\n",
        "            face_pil = Image.fromarray(face)\n",
        "            input_tensor = transform(face_pil).unsqueeze(0).to(device)\n",
        "\n",
        "            # Perform inference with MobileNetV2\n",
        "            with torch.no_grad():\n",
        "                output = mobilenet_model(input_tensor)\n",
        "                _, predicted = torch.max(output, 1)\n",
        "                prediction = \"Real\" if predicted.item() == 0 else \"Fake\"\n",
        "\n",
        "            # If distortion (deepfake) is detected\n",
        "            if prediction == \"Fake\":\n",
        "                distorted_faces += 1\n",
        "\n",
        "                # Save one example of an abnormal frame\n",
        "                if example_abnormal_frame is None:\n",
        "                    example_abnormal_frame = frame.copy()\n",
        "\n",
        "                # Draw bounding box and label on the frame\n",
        "                cv2.rectangle(frame, (x1, y1), (x2, y2), (0, 0, 255), 2)\n",
        "                cv2.putText(frame, \"Distorted Face\", (x1, y1 - 10), cv2.FONT_HERSHEY_SIMPLEX, 0.9, (0, 0, 255), 2)\n",
        "\n",
        "    cap.release()\n",
        "\n",
        "    # Display one example of an abnormal frame\n",
        "    if example_abnormal_frame is not None:\n",
        "        print(\"Displaying one example of an abnormal frame:\")\n",
        "        cv2.imshow(\"Example Abnormal Frame\", example_abnormal_frame)\n",
        "    else:\n",
        "        print(\"No abnormal frames detected.\")\n",
        "\n",
        "    return total_frames, distorted_faces"
      ]
    },
    {
      "cell_type": "markdown",
      "metadata": {
        "id": "FLx_DbfQ7d4Y"
      },
      "source": [
        "<h4>Testing</h4>"
      ]
    },
    {
      "cell_type": "code",
      "execution_count": 49,
      "metadata": {
        "colab": {
          "base_uri": "https://localhost:8080/",
          "height": 849
        },
        "id": "MgGFfj1R7gb6",
        "outputId": "a344b3c4-55f1-4dac-8d19-0586b55d5850"
      },
      "outputs": [
        {
          "name": "stdout",
          "output_type": "stream",
          "text": [
            "Displaying one example of an abnormal frame:\n",
            "Total Frames Processed: 90\n",
            "Total Distorted Faces Detected: 36\n"
          ]
        }
      ],
      "source": [
        "# First, initialize MTCNN\n",
        "mtcnn = MTCNN(keep_all=True, device=device)\n",
        "\n",
        "# Then run your test\n",
        "video_path = 'billgates.mp4'\n",
        "skip_frames = 5  # Process every 5th frame to improve performance\n",
        "\n",
        "total_frames, distorted_faces = detect_deepfakes(video_path, skip_frames)\n",
        "# Print the results\n",
        "print(f\"Total Frames Processed: {total_frames}\")\n",
        "print(f\"Total Distorted Faces Detected: {distorted_faces}\")"
      ]
    },
    {
      "cell_type": "markdown",
      "metadata": {
        "id": "SD_CmpMP1XEZ"
      },
      "source": [
        "<h1>Frame Anomalies</h1>"
      ]
    },
    {
      "cell_type": "markdown",
      "metadata": {
        "id": "T_zNr5-A1dJc"
      },
      "source": [
        "<h4>Preprocessing</h4>"
      ]
    },
    {
      "cell_type": "code",
      "execution_count": 25,
      "metadata": {
        "id": "rd6hXuTqwBNB"
      },
      "outputs": [],
      "source": [
        "# Define preprocessing transformations with smaller resolution\n",
        "transform = transforms.Compose([\n",
        "    transforms.ToPILImage(),\n",
        "    transforms.Resize((112, 112)),  # Smaller input size for faster processing\n",
        "    transforms.ToTensor(),\n",
        "    transforms.Normalize(mean=[0.485, 0.456, 0.406], std=[0.229, 0.224, 0.225])  # Normalize the image\n",
        "])\n",
        "\n",
        "# Function to preprocess a single frame\n",
        "def preprocess_frame(frame):\n",
        "    frame = transform(frame).unsqueeze(0)  # Add batch dimension\n",
        "    return frame"
      ]
    },
    {
      "cell_type": "markdown",
      "metadata": {
        "id": "N_AyMk3m1nPu"
      },
      "source": [
        "<h4>Loading pre trained model</h4>"
      ]
    },
    {
      "cell_type": "code",
      "execution_count": 26,
      "metadata": {
        "id": "No_LdleSuW6V"
      },
      "outputs": [],
      "source": [
        "# Load a smaller pre-trained model (e.g., MobileNet)\n",
        "model = models.mobilenet_v2(pretrained=True)\n",
        "model = torch.nn.Sequential(*list(model.children())[:-1])  # Remove the final classification layer\n",
        "model.eval()\n",
        "\n",
        "# Function to extract features from a frame using the pre-trained model\n",
        "def extract_features(frame, model):\n",
        "    with torch.no_grad():\n",
        "        features = model(frame)\n",
        "    return features.squeeze().numpy().flatten()  # Flatten the feature vector to 1D\n",
        "\n",
        "# Threshold for anomaly detection (you may need to tune this based on your data)\n",
        "ANOMALY_THRESHOLD = 0.85"
      ]
    },
    {
      "cell_type": "markdown",
      "metadata": {
        "id": "EgRBVtHI1tMF"
      },
      "source": [
        "<h4>Detection</h4>"
      ]
    },
    {
      "cell_type": "code",
      "execution_count": 30,
      "metadata": {
        "id": "GtMHfc2Lu_Xh"
      },
      "outputs": [],
      "source": [
        "# Function to calculate cosine similarity between two feature vectors\n",
        "def cosine_similarity(vec1, vec2):\n",
        "    return 1 - cosine(vec1, vec2)\n",
        "\n",
        "# Function to detect frame anomalies and display only abnormal frames\n",
        "def detect_frame_anomalies(video_path, skip_frames=5):\n",
        "    cap = cv2.VideoCapture(video_path)\n",
        "    if not cap.isOpened():\n",
        "        print(f\"Error: Could not open video at path {video_path}\")\n",
        "        return 0, 0\n",
        "\n",
        "    prev_features = None\n",
        "    frame_count = 0\n",
        "    total_frames = 0\n",
        "    abnormal_frames = 0\n",
        "\n",
        "    while cap.isOpened():\n",
        "        ret, frame = cap.read()\n",
        "        if not ret:\n",
        "            break\n",
        "\n",
        "        # Skip frames to reduce processing load\n",
        "        frame_count += 1\n",
        "        if frame_count % skip_frames != 0:\n",
        "            continue\n",
        "\n",
        "        # Increment total frame count\n",
        "        total_frames += 1\n",
        "\n",
        "        # Preprocess the frame\n",
        "        input_tensor = preprocess_frame(frame)\n",
        "\n",
        "        # Extract features using the pre-trained model\n",
        "        current_features = extract_features(input_tensor, model)\n",
        "\n",
        "        # Compare with previous frame's features\n",
        "        if prev_features is not None:\n",
        "            similarity = cosine_similarity(prev_features, current_features)\n",
        "\n",
        "            # Detect anomaly based on similarity threshold\n",
        "            if similarity < ANOMALY_THRESHOLD:\n",
        "                abnormal_frames += 1\n",
        "\n",
        "                # Display the abnormal frame\n",
        "                anomaly_status = \"Anomaly Detected\"\n",
        "                color = (0, 0, 255)  # Red color for anomalies\n",
        "                cv2.putText(frame, f\"Status: {anomaly_status}\", (10, 30), cv2.FONT_HERSHEY_SIMPLEX, 1, color, 2)\n",
        "\n",
        "                # Show the abnormal frame (optional: use cv2_imshow for Colab)\n",
        "                cv2.imshow(\"Frame\", frame)\n",
        "\n",
        "        # Update previous features\n",
        "        prev_features = current_features\n",
        "\n",
        "    cap.release()\n",
        "    return total_frames, abnormal_frames"
      ]
    },
    {
      "cell_type": "markdown",
      "metadata": {
        "id": "yjOBU6nD7awq"
      },
      "source": [
        "<h4>Testing</h4>"
      ]
    },
    {
      "cell_type": "code",
      "execution_count": 31,
      "metadata": {
        "colab": {
          "base_uri": "https://localhost:8080/",
          "height": 918
        },
        "id": "_WU85Z7uvTsP",
        "outputId": "47d16260-592c-4eb9-e49f-094947036208"
      },
      "outputs": [
        {
          "name": "stdout",
          "output_type": "stream",
          "text": [
            "Total Frames Processed: 90\n",
            "Total Abnormal Frames Detected: 2\n"
          ]
        }
      ],
      "source": [
        "# Test the function with your video file\n",
        "video_path = 'billgates.mp4'\n",
        "skip_frames = 5\n",
        "\n",
        "total_frames, abnormal_frames = detect_frame_anomalies(video_path, skip_frames)\n",
        "\n",
        "print(f\"Total Frames Processed: {total_frames}\")\n",
        "print(f\"Total Abnormal Frames Detected: {abnormal_frames}\")"
      ]
    },
    {
      "cell_type": "code",
      "execution_count": null,
      "metadata": {
        "id": "WnxYc9S4vV_M"
      },
      "outputs": [],
      "source": []
    }
  ],
  "metadata": {
    "colab": {
      "provenance": []
    },
    "kernelspec": {
      "display_name": "Python 3",
      "name": "python3"
    },
    "language_info": {
      "codemirror_mode": {
        "name": "ipython",
        "version": 3
      },
      "file_extension": ".py",
      "mimetype": "text/x-python",
      "name": "python",
      "nbconvert_exporter": "python",
      "pygments_lexer": "ipython3",
      "version": "3.12.3"
    }
  },
  "nbformat": 4,
  "nbformat_minor": 0
}
