{
  "cells": [
    {
      "cell_type": "code",
      "execution_count": 73,
      "metadata": {
        "colab": {
          "base_uri": "https://localhost:8080/"
        },
        "id": "0ItqWDrZ9idc",
        "outputId": "b0b63dff-cd88-44d3-8340-d5a600e22859"
      },
      "outputs": [
        {
          "name": "stdout",
          "output_type": "stream",
          "text": [
            "Requirement already satisfied: moviepy in c:\\python312\\lib\\site-packages (2.1.2)\n",
            "Requirement already satisfied: librosa in c:\\python312\\lib\\site-packages (0.10.2.post1)\n",
            "Requirement already satisfied: transformers in c:\\python312\\lib\\site-packages (4.49.0)\n",
            "Requirement already satisfied: torch in c:\\users\\harshal shah\\appdata\\roaming\\python\\python312\\site-packages (2.6.0)\n",
            "Requirement already satisfied: torchvision in c:\\users\\harshal shah\\appdata\\roaming\\python\\python312\\site-packages (0.21.0)\n",
            "Requirement already satisfied: mediapipe in c:\\python312\\lib\\site-packages (0.10.21)\n",
            "Requirement already satisfied: opencv-python in c:\\users\\harshal shah\\appdata\\roaming\\python\\python312\\site-packages (4.11.0.86)\n",
            "Requirement already satisfied: matplotlib in c:\\users\\harshal shah\\appdata\\roaming\\python\\python312\\site-packages (3.10.0)\n",
            "Requirement already satisfied: decorator<6.0,>=4.0.2 in c:\\python312\\lib\\site-packages (from moviepy) (5.1.1)\n",
            "Requirement already satisfied: imageio<3.0,>=2.5 in c:\\python312\\lib\\site-packages (from moviepy) (2.37.0)\n",
            "Requirement already satisfied: imageio_ffmpeg>=0.2.0 in c:\\python312\\lib\\site-packages (from moviepy) (0.6.0)\n",
            "Requirement already satisfied: numpy>=1.25.0 in c:\\users\\harshal shah\\appdata\\roaming\\python\\python312\\site-packages (from moviepy) (2.1.0)\n",
            "Requirement already satisfied: proglog<=1.0.0 in c:\\python312\\lib\\site-packages (from moviepy) (0.1.10)\n",
            "Requirement already satisfied: python-dotenv>=0.10 in c:\\python312\\lib\\site-packages (from moviepy) (1.0.1)\n",
            "Requirement already satisfied: pillow<11.0,>=9.2.0 in c:\\python312\\lib\\site-packages (from moviepy) (10.4.0)\n",
            "Requirement already satisfied: audioread>=2.1.9 in c:\\python312\\lib\\site-packages (from librosa) (3.0.1)\n",
            "Requirement already satisfied: scipy>=1.2.0 in c:\\users\\harshal shah\\appdata\\roaming\\python\\python312\\site-packages (from librosa) (1.15.2)\n",
            "Requirement already satisfied: scikit-learn>=0.20.0 in c:\\python312\\lib\\site-packages (from librosa) (1.6.1)\n",
            "Requirement already satisfied: joblib>=0.14 in c:\\python312\\lib\\site-packages (from librosa) (1.4.2)\n",
            "Requirement already satisfied: numba>=0.51.0 in c:\\python312\\lib\\site-packages (from librosa) (0.61.0)\n",
            "Requirement already satisfied: soundfile>=0.12.1 in c:\\python312\\lib\\site-packages (from librosa) (0.13.1)\n",
            "Requirement already satisfied: pooch>=1.1 in c:\\python312\\lib\\site-packages (from librosa) (1.8.2)\n",
            "Requirement already satisfied: soxr>=0.3.2 in c:\\python312\\lib\\site-packages (from librosa) (0.5.0.post1)\n",
            "Requirement already satisfied: typing-extensions>=4.1.1 in c:\\users\\harshal shah\\appdata\\roaming\\python\\python312\\site-packages (from librosa) (4.12.2)\n",
            "Requirement already satisfied: lazy-loader>=0.1 in c:\\python312\\lib\\site-packages (from librosa) (0.4)\n",
            "Requirement already satisfied: msgpack>=1.0 in c:\\python312\\lib\\site-packages (from librosa) (1.1.0)\n",
            "Requirement already satisfied: filelock in c:\\users\\harshal shah\\appdata\\roaming\\python\\python312\\site-packages (from transformers) (3.17.0)\n",
            "Requirement already satisfied: huggingface-hub<1.0,>=0.26.0 in c:\\python312\\lib\\site-packages (from transformers) (0.29.1)\n",
            "Requirement already satisfied: packaging>=20.0 in c:\\python312\\lib\\site-packages (from transformers) (24.2)\n",
            "Requirement already satisfied: pyyaml>=5.1 in c:\\users\\harshal shah\\appdata\\roaming\\python\\python312\\site-packages (from transformers) (6.0.2)\n",
            "Requirement already satisfied: regex!=2019.12.17 in c:\\python312\\lib\\site-packages (from transformers) (2024.11.6)\n",
            "Requirement already satisfied: requests in c:\\users\\harshal shah\\appdata\\roaming\\python\\python312\\site-packages (from transformers) (2.32.3)\n",
            "Requirement already satisfied: tokenizers<0.22,>=0.21 in c:\\python312\\lib\\site-packages (from transformers) (0.21.0)\n",
            "Requirement already satisfied: safetensors>=0.4.1 in c:\\python312\\lib\\site-packages (from transformers) (0.5.2)\n",
            "Requirement already satisfied: tqdm>=4.27 in c:\\users\\harshal shah\\appdata\\roaming\\python\\python312\\site-packages (from transformers) (4.67.1)\n",
            "Requirement already satisfied: networkx in c:\\users\\harshal shah\\appdata\\roaming\\python\\python312\\site-packages (from torch) (3.4.2)\n",
            "Requirement already satisfied: jinja2 in c:\\users\\harshal shah\\appdata\\roaming\\python\\python312\\site-packages (from torch) (3.1.5)\n",
            "Requirement already satisfied: fsspec in c:\\users\\harshal shah\\appdata\\roaming\\python\\python312\\site-packages (from torch) (2025.2.0)\n",
            "Requirement already satisfied: setuptools in c:\\users\\harshal shah\\appdata\\roaming\\python\\python312\\site-packages (from torch) (75.8.0)\n",
            "Requirement already satisfied: sympy==1.13.1 in c:\\users\\harshal shah\\appdata\\roaming\\python\\python312\\site-packages (from torch) (1.13.1)\n",
            "Requirement already satisfied: mpmath<1.4,>=1.1.0 in c:\\users\\harshal shah\\appdata\\roaming\\python\\python312\\site-packages (from sympy==1.13.1->torch) (1.3.0)\n",
            "Requirement already satisfied: absl-py in c:\\users\\harshal shah\\appdata\\roaming\\python\\python312\\site-packages (from mediapipe) (2.1.0)\n",
            "Requirement already satisfied: attrs>=19.1.0 in c:\\users\\harshal shah\\appdata\\roaming\\python\\python312\\site-packages (from mediapipe) (25.1.0)\n",
            "Requirement already satisfied: flatbuffers>=2.0 in c:\\python312\\lib\\site-packages (from mediapipe) (25.2.10)\n",
            "Requirement already satisfied: jax in c:\\python312\\lib\\site-packages (from mediapipe) (0.5.0)\n",
            "Requirement already satisfied: jaxlib in c:\\python312\\lib\\site-packages (from mediapipe) (0.5.0)\n",
            "Collecting numpy>=1.25.0 (from moviepy)\n",
            "  Using cached numpy-1.26.4-cp312-cp312-win_amd64.whl.metadata (61 kB)\n",
            "Requirement already satisfied: opencv-contrib-python in c:\\python312\\lib\\site-packages (from mediapipe) (4.11.0.86)\n",
            "Requirement already satisfied: protobuf<5,>=4.25.3 in c:\\python312\\lib\\site-packages (from mediapipe) (4.25.6)\n",
            "Requirement already satisfied: sounddevice>=0.4.4 in c:\\python312\\lib\\site-packages (from mediapipe) (0.5.1)\n",
            "Requirement already satisfied: sentencepiece in c:\\python312\\lib\\site-packages (from mediapipe) (0.2.0)\n",
            "Requirement already satisfied: contourpy>=1.0.1 in c:\\users\\harshal shah\\appdata\\roaming\\python\\python312\\site-packages (from matplotlib) (1.3.1)\n",
            "Requirement already satisfied: cycler>=0.10 in c:\\users\\harshal shah\\appdata\\roaming\\python\\python312\\site-packages (from matplotlib) (0.12.1)\n",
            "Requirement already satisfied: fonttools>=4.22.0 in c:\\python312\\lib\\site-packages (from matplotlib) (4.55.8)\n",
            "Requirement already satisfied: kiwisolver>=1.3.1 in c:\\python312\\lib\\site-packages (from matplotlib) (1.4.8)\n",
            "Requirement already satisfied: pyparsing>=2.3.1 in c:\\python312\\lib\\site-packages (from matplotlib) (3.2.1)\n",
            "Requirement already satisfied: python-dateutil>=2.7 in c:\\users\\harshal shah\\appdata\\roaming\\python\\python312\\site-packages (from matplotlib) (2.9.0.post0)\n",
            "Requirement already satisfied: llvmlite<0.45,>=0.44.0dev0 in c:\\python312\\lib\\site-packages (from numba>=0.51.0->librosa) (0.44.0)\n",
            "Requirement already satisfied: platformdirs>=2.5.0 in c:\\python312\\lib\\site-packages (from pooch>=1.1->librosa) (4.3.6)\n",
            "Requirement already satisfied: six>=1.5 in c:\\python312\\lib\\site-packages (from python-dateutil>=2.7->matplotlib) (1.17.0)\n",
            "Requirement already satisfied: charset-normalizer<4,>=2 in c:\\users\\harshal shah\\appdata\\roaming\\python\\python312\\site-packages (from requests->transformers) (3.4.1)\n",
            "Requirement already satisfied: idna<4,>=2.5 in c:\\users\\harshal shah\\appdata\\roaming\\python\\python312\\site-packages (from requests->transformers) (3.10)\n",
            "Requirement already satisfied: urllib3<3,>=1.21.1 in c:\\users\\harshal shah\\appdata\\roaming\\python\\python312\\site-packages (from requests->transformers) (2.3.0)\n",
            "Requirement already satisfied: certifi>=2017.4.17 in c:\\users\\harshal shah\\appdata\\roaming\\python\\python312\\site-packages (from requests->transformers) (2025.1.31)\n",
            "Requirement already satisfied: threadpoolctl>=3.1.0 in c:\\python312\\lib\\site-packages (from scikit-learn>=0.20.0->librosa) (3.5.0)\n",
            "Requirement already satisfied: CFFI>=1.0 in c:\\python312\\lib\\site-packages (from sounddevice>=0.4.4->mediapipe) (1.17.1)\n",
            "Requirement already satisfied: colorama in c:\\users\\harshal shah\\appdata\\roaming\\python\\python312\\site-packages (from tqdm>=4.27->transformers) (0.4.6)\n",
            "Requirement already satisfied: ml_dtypes>=0.4.0 in c:\\users\\harshal shah\\appdata\\roaming\\python\\python312\\site-packages (from jax->mediapipe) (0.4.1)\n",
            "Requirement already satisfied: opt_einsum in c:\\python312\\lib\\site-packages (from jax->mediapipe) (3.4.0)\n",
            "Requirement already satisfied: MarkupSafe>=2.0 in c:\\users\\harshal shah\\appdata\\roaming\\python\\python312\\site-packages (from jinja2->torch) (3.0.2)\n",
            "Requirement already satisfied: pycparser in c:\\python312\\lib\\site-packages (from CFFI>=1.0->sounddevice>=0.4.4->mediapipe) (2.22)\n",
            "Using cached numpy-1.26.4-cp312-cp312-win_amd64.whl (15.5 MB)\n",
            "Installing collected packages: numpy\n",
            "  Attempting uninstall: numpy\n",
            "    Found existing installation: numpy 2.1.0\n",
            "    Uninstalling numpy-2.1.0:\n",
            "      Successfully uninstalled numpy-2.1.0\n",
            "  Rolling back uninstall of numpy\n",
            "  Moving to c:\\users\\harshal shah\\appdata\\roaming\\python\\python312\\scripts\\f2py.exe\n",
            "   from C:\\Users\\Harshal Shah\\AppData\\Local\\Temp\\pip-uninstall-3l_nurkr\\f2py.exe\n",
            "  Moving to c:\\users\\harshal shah\\appdata\\roaming\\python\\python312\\scripts\\numpy-config.exe\n",
            "   from C:\\Users\\Harshal Shah\\AppData\\Local\\Temp\\pip-uninstall-3l_nurkr\\numpy-config.exe\n",
            "  Moving to c:\\users\\harshal shah\\appdata\\roaming\\python\\python312\\site-packages\\numpy-2.1.0-cp312-cp312-win_amd64.whl\n",
            "   from C:\\Users\\Harshal Shah\\AppData\\Local\\Temp\\pip-uninstall-357u70dl\\numpy-2.1.0-cp312-cp312-win_amd64.whl\n",
            "  Moving to c:\\users\\harshal shah\\appdata\\roaming\\python\\python312\\site-packages\\numpy-2.1.0.dist-info\\\n",
            "   from C:\\Users\\Harshal Shah\\AppData\\Roaming\\Python\\Python312\\site-packages\\~umpy-2.1.0.dist-info\n",
            "  Moving to c:\\users\\harshal shah\\appdata\\roaming\\python\\python312\\site-packages\\numpy.libs\\\n",
            "   from C:\\Users\\Harshal Shah\\AppData\\Roaming\\Python\\Python312\\site-packages\\~umpy.libs\n",
            "  Moving to c:\\users\\harshal shah\\appdata\\roaming\\python\\python312\\site-packages\\numpy\\\n",
            "   from C:\\Users\\Harshal Shah\\AppData\\Roaming\\Python\\Python312\\site-packages\\~umpy\n",
            "Note: you may need to restart the kernel to use updated packages.\n"
          ]
        },
        {
          "name": "stderr",
          "output_type": "stream",
          "text": [
            "  WARNING: Failed to write executable - trying to use .deleteme logic\n",
            "ERROR: Could not install packages due to an OSError: [WinError 2] The system cannot find the file specified: 'c:\\\\Python312\\\\Scripts\\\\f2py.exe' -> 'c:\\\\Python312\\\\Scripts\\\\f2py.exe.deleteme'\n",
            "\n"
          ]
        }
      ],
      "source": [
        "# Cell 1: Install required libraries (run this in your terminal or uncomment if running in a script)\n",
        "%pip install moviepy librosa transformers torch torchvision mediapipe opencv-python matplotlib"
      ]
    },
    {
      "cell_type": "code",
      "execution_count": 74,
      "metadata": {
        "id": "Sj6cnoLO-ckF"
      },
      "outputs": [],
      "source": [
        "# Cell 2: Import necessary libraries\n",
        "import os\n",
        "import numpy as np\n",
        "import librosa\n",
        "from moviepy import VideoFileClip\n",
        "from transformers import Wav2Vec2Processor, Wav2Vec2Model\n",
        "import torch\n",
        "import mediapipe as mp\n",
        "import cv2\n",
        "import matplotlib.pyplot as plt"
      ]
    },
    {
      "cell_type": "code",
      "execution_count": 75,
      "metadata": {
        "id": "z2H5X8If-e4V"
      },
      "outputs": [],
      "source": [
        "# Cell 3: Define function to extract audio from video\n",
        "def extract_audio(video_path, output_audio_path=\"temp_audio.wav\"):\n",
        "    video = VideoFileClip(video_path)\n",
        "    video.audio.write_audiofile(output_audio_path, codec='pcm_s16le')\n",
        "    return output_audio_path"
      ]
    },
    {
      "cell_type": "code",
      "execution_count": 76,
      "metadata": {
        "id": "K7dYiPwI-lnF"
      },
      "outputs": [],
      "source": [
        "# Cell 4: Define function to process audio using Wav2Vec2\n",
        "def process_audio(audio_path):\n",
        "    processor = Wav2Vec2Processor.from_pretrained(\"facebook/wav2vec2-base-960h\")\n",
        "    model = Wav2Vec2Model.from_pretrained(\"facebook/wav2vec2-base-960h\")\n",
        "    waveform, sample_rate = librosa.load(audio_path, sr=16000)\n",
        "    inputs = processor(waveform, sampling_rate=sample_rate, return_tensors=\"pt\")\n",
        "    with torch.no_grad():\n",
        "        outputs = model(**inputs)\n",
        "    audio_embeddings = outputs.last_hidden_state.mean(dim=1).squeeze().numpy()\n",
        "    return audio_embeddings"
      ]
    },
    {
      "cell_type": "code",
      "execution_count": 67,
      "metadata": {
        "id": "VOTQuejK-t6V"
      },
      "outputs": [],
      "source": [
        "# Cell 5: Define function to extract visual features (lip movements)\n",
        "def extract_visual_features(video_path):\n",
        "    mp_face_mesh = mp.solutions.face_mesh\n",
        "    face_mesh = mp_face_mesh.FaceMesh(static_image_mode=False, max_num_faces=1)\n",
        "    video = VideoFileClip(video_path)\n",
        "    frames = [frame for frame in video.iter_frames()]\n",
        "    lip_landmarks = []\n",
        "    face_detection_success = 0\n",
        "    for frame in frames:\n",
        "        frame_rgb = cv2.cvtColor(frame, cv2.COLOR_BGR2RGB)\n",
        "        results = face_mesh.process(frame_rgb)\n",
        "        if results.multi_face_landmarks:\n",
        "            face_detection_success += 1\n",
        "            lip_points = [results.multi_face_landmarks[0].landmark[i] for i in range(0, 20)]\n",
        "            lip_coords = [(p.x, p.y, p.z) for p in lip_points]\n",
        "            lip_landmarks.append(np.array(lip_coords).flatten())\n",
        "    if lip_landmarks:\n",
        "        visual_embeddings = np.mean(lip_landmarks, axis=0)\n",
        "    else:\n",
        "        raise ValueError(\"No face detected in the video.\")\n",
        "    face_detection_rate = face_detection_success / len(frames)\n",
        "    return visual_embeddings, face_detection_rate\n"
      ]
    },
    {
      "cell_type": "code",
      "execution_count": 77,
      "metadata": {},
      "outputs": [],
      "source": [
        "# Cell 6: Define function to compute mismatch metrics\n",
        "def compute_mismatch_metrics(audio_embeddings, visual_embeddings):\n",
        "    # Normalize embeddings\n",
        "    audio_embeddings = audio_embeddings / np.linalg.norm(audio_embeddings)\n",
        "\n",
        "    # Pad visual embeddings to match audio embeddings size\n",
        "    padded_visual_embeddings = np.pad(\n",
        "        visual_embeddings,\n",
        "        (0, audio_embeddings.shape[0] - visual_embeddings.shape[0]),\n",
        "        mode='constant'\n",
        "    )\n",
        "    padded_visual_embeddings = padded_visual_embeddings / np.linalg.norm(padded_visual_embeddings)\n",
        "\n",
        "    # Compute cosine similarity\n",
        "    cosine_similarity = np.dot(audio_embeddings, padded_visual_embeddings)\n",
        "    mismatch_score = 1 - cosine_similarity\n",
        "\n",
        "    # Compute Euclidean distance\n",
        "    euclidean_distance = np.linalg.norm(audio_embeddings - padded_visual_embeddings)\n",
        "\n",
        "    return {\n",
        "        \"cosine_similarity\": cosine_similarity,\n",
        "        \"mismatch_score\": mismatch_score,\n",
        "        \"euclidean_distance\": euclidean_distance\n",
        "    }\n"
      ]
    },
    {
      "cell_type": "code",
      "execution_count": 78,
      "metadata": {
        "id": "sm-i5LHW-z18"
      },
      "outputs": [],
      "source": [
        "# Cell 7: Main function to analyze video\n",
        "def analyze_video(video_path):\n",
        "    # Step 1: Extract audio from video\n",
        "    audio_path = extract_audio(video_path)\n",
        "\n",
        "    # Step 2: Process audio to get embeddings\n",
        "    audio_embeddings = process_audio(audio_path)\n",
        "\n",
        "    # Step 3: Extract visual features (lip movements)\n",
        "    visual_embeddings, face_detection_rate = extract_visual_features(video_path)\n",
        "\n",
        "    # Step 4: Compute mismatch metrics\n",
        "    metrics = compute_mismatch_metrics(audio_embeddings, visual_embeddings)\n",
        "\n",
        "    # Clean up temporary files\n",
        "    if os.path.exists(audio_path):\n",
        "        os.remove(audio_path)\n",
        "\n",
        "    return metrics, face_detection_rate"
      ]
    },
    {
      "cell_type": "code",
      "execution_count": 79,
      "metadata": {
        "colab": {
          "base_uri": "https://localhost:8080/"
        },
        "id": "IzBNKSRs-_9t",
        "outputId": "4556e824-6969-4e3b-ccad-5ee2fdd0be7e"
      },
      "outputs": [
        {
          "name": "stdout",
          "output_type": "stream",
          "text": [
            "{'video_found': True, 'audio_found': True, 'metadata': {'major_brand': 'mp42', 'minor_version': '0', 'compatible_brands': 'mp42isom'}, 'inputs': [{'streams': [{'input_number': 0, 'stream_number': 0, 'stream_type': 'video', 'language': None, 'default': True, 'size': [224, 224], 'bitrate': 96, 'fps': 25.0, 'codec_name': 'h264', 'profile': '(High)', 'metadata': {'Metadata': '', 'vendor_id': '[0][0][0][0]'}}, {'input_number': 0, 'stream_number': 1, 'stream_type': 'audio', 'language': None, 'default': True, 'fps': 16000, 'bitrate': 67, 'metadata': {'Metadata': '', 'vendor_id': '[0][0][0][0]'}}], 'input_number': 0}], 'duration': 5.25, 'bitrate': 168, 'start': 0.0, 'default_video_input_number': 0, 'default_video_stream_number': 0, 'video_codec_name': 'h264', 'video_profile': '(High)', 'video_size': [224, 224], 'video_bitrate': 96, 'video_fps': 25.0, 'default_audio_input_number': 0, 'default_audio_stream_number': 1, 'audio_fps': 16000, 'audio_bitrate': 67, 'video_duration': 5.25, 'video_n_frames': 131}\n",
            "c:\\Python312\\Lib\\site-packages\\imageio_ffmpeg\\binaries\\ffmpeg-win-x86_64-v7.1.exe -i 000471.mp4 -loglevel error -f image2pipe -vf scale=224:224 -sws_flags bicubic -pix_fmt rgb24 -vcodec rawvideo -\n",
            "MoviePy - Writing audio in temp_audio.wav\n"
          ]
        },
        {
          "name": "stderr",
          "output_type": "stream",
          "text": [
            "                                                        \r"
          ]
        },
        {
          "name": "stdout",
          "output_type": "stream",
          "text": [
            "MoviePy - Done.\n"
          ]
        },
        {
          "name": "stderr",
          "output_type": "stream",
          "text": [
            "Some weights of Wav2Vec2Model were not initialized from the model checkpoint at facebook/wav2vec2-base-960h and are newly initialized: ['wav2vec2.masked_spec_embed']\n",
            "You should probably TRAIN this model on a down-stream task to be able to use it for predictions and inference.\n"
          ]
        },
        {
          "name": "stdout",
          "output_type": "stream",
          "text": [
            "{'video_found': True, 'audio_found': True, 'metadata': {'major_brand': 'mp42', 'minor_version': '0', 'compatible_brands': 'mp42isom'}, 'inputs': [{'streams': [{'input_number': 0, 'stream_number': 0, 'stream_type': 'video', 'language': None, 'default': True, 'size': [224, 224], 'bitrate': 96, 'fps': 25.0, 'codec_name': 'h264', 'profile': '(High)', 'metadata': {'Metadata': '', 'vendor_id': '[0][0][0][0]'}}, {'input_number': 0, 'stream_number': 1, 'stream_type': 'audio', 'language': None, 'default': True, 'fps': 16000, 'bitrate': 67, 'metadata': {'Metadata': '', 'vendor_id': '[0][0][0][0]'}}], 'input_number': 0}], 'duration': 5.25, 'bitrate': 168, 'start': 0.0, 'default_video_input_number': 0, 'default_video_stream_number': 0, 'video_codec_name': 'h264', 'video_profile': '(High)', 'video_size': [224, 224], 'video_bitrate': 96, 'video_fps': 25.0, 'default_audio_input_number': 0, 'default_audio_stream_number': 1, 'audio_fps': 16000, 'audio_bitrate': 67, 'video_duration': 5.25, 'video_n_frames': 131}\n",
            "c:\\Python312\\Lib\\site-packages\\imageio_ffmpeg\\binaries\\ffmpeg-win-x86_64-v7.1.exe -i 000471.mp4 -loglevel error -f image2pipe -vf scale=224:224 -sws_flags bicubic -pix_fmt rgb24 -vcodec rawvideo -\n"
          ]
        }
      ],
      "source": [
        "# Cell 8: Run analysis on a sample video and save results as JSON\n",
        "if __name__ == \"__main__\":\n",
        "    import json\n",
        "    \n",
        "    video_path = \"000471.mp4\"  # Replace with your video file path\n",
        "    metrics, face_detection_rate = analyze_video(video_path)\n",
        "    \n",
        "    # Add analysis result based on mismatch score\n",
        "    if metrics['mismatch_score'] < 0.5:\n",
        "        analysis_result = \"Audio and visual content are well-aligned.\"\n",
        "    elif 0.5 <= metrics['mismatch_score'] <= 1:\n",
        "        analysis_result = \"Moderate mismatch detected. Check for minor inconsistencies.\"\n",
        "    else:\n",
        "        analysis_result = \"High mismatch detected. Audio and visual content are inconsistent.\""
      ]
    },
    {
      "cell_type": "code",
      "execution_count": 80,
      "metadata": {},
      "outputs": [
        {
          "name": "stdout",
          "output_type": "stream",
          "text": [
            "Results saved to results.json: {'total_frames': 25, 'distorted_faces': 0, 'total_frames_processed': 25, 'total_abnormal_frames_detected': 1, 'face_detection_rate': 100.0, 'cosine_similarity': -0.05, 'mismatch_score': 1.05, 'euclidean_distance': 1.45, 'analysis_result': 'High mismatch detected. Audio and visual content are inconsistent.'}\n"
          ]
        }
      ],
      "source": [
        "import os\n",
        "import json\n",
        "# Define the path for the results.json file\n",
        "results_file_path = 'results.json'\n",
        "\n",
        "# Prepare the data to be saved\n",
        "results_data = {\n",
        "    \"face_detection_rate\": round(face_detection_rate * 100, 2),\n",
        "    \"cosine_similarity\": round(float(metrics['cosine_similarity']), 2),\n",
        "    \"mismatch_score\": round(float(metrics['mismatch_score']), 2),\n",
        "    \"euclidean_distance\": round(float(metrics['euclidean_distance']), 2),\n",
        "    \"analysis_result\": analysis_result\n",
        "}\n",
        "\n",
        "try:\n",
        "    # If the file exists and is not empty, read and update existing data\n",
        "    if os.path.exists(results_file_path) and os.path.getsize(results_file_path) > 0:\n",
        "        with open(results_file_path, 'r') as file:\n",
        "            existing_data = json.load(file)\n",
        "        # Update the existing data with new results\n",
        "        existing_data.update(results_data)\n",
        "        results_data = existing_data\n",
        "    \n",
        "    # Write the results to the file\n",
        "    with open(results_file_path, 'w') as file:\n",
        "        json.dump(results_data, file, indent=4)\n",
        "    \n",
        "    print(f\"Results saved to {results_file_path}: {results_data}\")\n",
        "\n",
        "except Exception as e:\n",
        "    print(f\"Error handling results file: {str(e)}\")"
      ]
    },
    {
      "cell_type": "code",
      "execution_count": null,
      "metadata": {},
      "outputs": [],
      "source": []
    }
  ],
  "metadata": {
    "colab": {
      "provenance": []
    },
    "kernelspec": {
      "display_name": "Python 3",
      "name": "python3"
    },
    "language_info": {
      "codemirror_mode": {
        "name": "ipython",
        "version": 3
      },
      "file_extension": ".py",
      "mimetype": "text/x-python",
      "name": "python",
      "nbconvert_exporter": "python",
      "pygments_lexer": "ipython3",
      "version": "3.12.3"
    }
  },
  "nbformat": 4,
  "nbformat_minor": 0
}
