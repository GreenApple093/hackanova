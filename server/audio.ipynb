{
  "cells": [
    {
      "cell_type": "code",
      "execution_count": 4,
      "metadata": {
        "colab": {
          "base_uri": "https://localhost:8080/"
        },
        "id": "0ItqWDrZ9idc",
        "outputId": "b0b63dff-cd88-44d3-8340-d5a600e22859"
      },
      "outputs": [
        {
          "name": "stdout",
          "output_type": "stream",
          "text": [
            "Requirement already satisfied: moviepy in c:\\users\\maury\\appdata\\local\\programs\\python\\python312\\lib\\site-packages (2.1.2)\n",
            "Requirement already satisfied: librosa in c:\\users\\maury\\appdata\\local\\programs\\python\\python312\\lib\\site-packages (0.10.2.post1)\n",
            "Requirement already satisfied: transformers in c:\\users\\maury\\appdata\\local\\programs\\python\\python312\\lib\\site-packages (4.49.0)\n",
            "Requirement already satisfied: torch in c:\\users\\maury\\appdata\\local\\programs\\python\\python312\\lib\\site-packages (2.6.0)\n",
            "Requirement already satisfied: torchvision in c:\\users\\maury\\appdata\\local\\programs\\python\\python312\\lib\\site-packages (0.21.0)\n",
            "Requirement already satisfied: mediapipe in c:\\users\\maury\\appdata\\local\\programs\\python\\python312\\lib\\site-packages (0.10.21)\n",
            "Requirement already satisfied: opencv-python in c:\\users\\maury\\appdata\\local\\programs\\python\\python312\\lib\\site-packages (4.11.0.86)\n",
            "Requirement already satisfied: scikit-learn in c:\\users\\maury\\appdata\\local\\programs\\python\\python312\\lib\\site-packages (1.6.1)\n",
            "Requirement already satisfied: decorator<6.0,>=4.0.2 in c:\\users\\maury\\appdata\\roaming\\python\\python312\\site-packages (from moviepy) (5.1.1)\n",
            "Requirement already satisfied: imageio<3.0,>=2.5 in c:\\users\\maury\\appdata\\local\\programs\\python\\python312\\lib\\site-packages (from moviepy) (2.37.0)\n",
            "Requirement already satisfied: imageio_ffmpeg>=0.2.0 in c:\\users\\maury\\appdata\\local\\programs\\python\\python312\\lib\\site-packages (from moviepy) (0.6.0)\n",
            "Requirement already satisfied: numpy>=1.25.0 in c:\\users\\maury\\appdata\\local\\programs\\python\\python312\\lib\\site-packages (from moviepy) (1.26.4)\n",
            "Requirement already satisfied: proglog<=1.0.0 in c:\\users\\maury\\appdata\\local\\programs\\python\\python312\\lib\\site-packages (from moviepy) (0.1.10)\n",
            "Requirement already satisfied: python-dotenv>=0.10 in c:\\users\\maury\\appdata\\local\\programs\\python\\python312\\lib\\site-packages (from moviepy) (1.0.1)\n",
            "Requirement already satisfied: pillow<11.0,>=9.2.0 in c:\\users\\maury\\appdata\\local\\programs\\python\\python312\\lib\\site-packages (from moviepy) (10.4.0)\n",
            "Requirement already satisfied: audioread>=2.1.9 in c:\\users\\maury\\appdata\\local\\programs\\python\\python312\\lib\\site-packages (from librosa) (3.0.1)\n",
            "Requirement already satisfied: scipy>=1.2.0 in c:\\users\\maury\\appdata\\local\\programs\\python\\python312\\lib\\site-packages (from librosa) (1.15.2)\n",
            "Requirement already satisfied: joblib>=0.14 in c:\\users\\maury\\appdata\\local\\programs\\python\\python312\\lib\\site-packages (from librosa) (1.4.2)\n",
            "Requirement already satisfied: numba>=0.51.0 in c:\\users\\maury\\appdata\\local\\programs\\python\\python312\\lib\\site-packages (from librosa) (0.61.0)\n",
            "Requirement already satisfied: soundfile>=0.12.1 in c:\\users\\maury\\appdata\\local\\programs\\python\\python312\\lib\\site-packages (from librosa) (0.13.1)\n",
            "Requirement already satisfied: pooch>=1.1 in c:\\users\\maury\\appdata\\local\\programs\\python\\python312\\lib\\site-packages (from librosa) (1.8.2)\n",
            "Requirement already satisfied: soxr>=0.3.2 in c:\\users\\maury\\appdata\\local\\programs\\python\\python312\\lib\\site-packages (from librosa) (0.5.0.post1)\n",
            "Requirement already satisfied: typing-extensions>=4.1.1 in c:\\users\\maury\\appdata\\local\\programs\\python\\python312\\lib\\site-packages (from librosa) (4.12.2)\n",
            "Requirement already satisfied: lazy-loader>=0.1 in c:\\users\\maury\\appdata\\local\\programs\\python\\python312\\lib\\site-packages (from librosa) (0.4)\n",
            "Requirement already satisfied: msgpack>=1.0 in c:\\users\\maury\\appdata\\local\\programs\\python\\python312\\lib\\site-packages (from librosa) (1.1.0)\n",
            "Requirement already satisfied: filelock in c:\\users\\maury\\appdata\\local\\programs\\python\\python312\\lib\\site-packages (from transformers) (3.17.0)\n",
            "Requirement already satisfied: huggingface-hub<1.0,>=0.26.0 in c:\\users\\maury\\appdata\\local\\programs\\python\\python312\\lib\\site-packages (from transformers) (0.29.1)\n",
            "Requirement already satisfied: packaging>=20.0 in c:\\users\\maury\\appdata\\local\\programs\\python\\python312\\lib\\site-packages (from transformers) (24.2)\n",
            "Requirement already satisfied: pyyaml>=5.1 in c:\\users\\maury\\appdata\\local\\programs\\python\\python312\\lib\\site-packages (from transformers) (6.0.2)\n",
            "Requirement already satisfied: regex!=2019.12.17 in c:\\users\\maury\\appdata\\local\\programs\\python\\python312\\lib\\site-packages (from transformers) (2024.11.6)\n",
            "Requirement already satisfied: requests in c:\\users\\maury\\appdata\\local\\programs\\python\\python312\\lib\\site-packages (from transformers) (2.32.3)\n",
            "Requirement already satisfied: tokenizers<0.22,>=0.21 in c:\\users\\maury\\appdata\\local\\programs\\python\\python312\\lib\\site-packages (from transformers) (0.21.0)\n",
            "Requirement already satisfied: safetensors>=0.4.1 in c:\\users\\maury\\appdata\\local\\programs\\python\\python312\\lib\\site-packages (from transformers) (0.5.2)\n",
            "Requirement already satisfied: tqdm>=4.27 in c:\\users\\maury\\appdata\\local\\programs\\python\\python312\\lib\\site-packages (from transformers) (4.67.1)\n",
            "Requirement already satisfied: networkx in c:\\users\\maury\\appdata\\local\\programs\\python\\python312\\lib\\site-packages (from torch) (3.4.2)\n",
            "Requirement already satisfied: jinja2 in c:\\users\\maury\\appdata\\local\\programs\\python\\python312\\lib\\site-packages (from torch) (3.1.5)\n",
            "Requirement already satisfied: fsspec in c:\\users\\maury\\appdata\\local\\programs\\python\\python312\\lib\\site-packages (from torch) (2025.2.0)\n",
            "Requirement already satisfied: setuptools in c:\\users\\maury\\appdata\\local\\programs\\python\\python312\\lib\\site-packages (from torch) (75.8.0)\n",
            "Requirement already satisfied: sympy==1.13.1 in c:\\users\\maury\\appdata\\local\\programs\\python\\python312\\lib\\site-packages (from torch) (1.13.1)\n",
            "Requirement already satisfied: mpmath<1.4,>=1.1.0 in c:\\users\\maury\\appdata\\local\\programs\\python\\python312\\lib\\site-packages (from sympy==1.13.1->torch) (1.3.0)\n",
            "Requirement already satisfied: absl-py in c:\\users\\maury\\appdata\\local\\programs\\python\\python312\\lib\\site-packages (from mediapipe) (2.1.0)\n",
            "Requirement already satisfied: attrs>=19.1.0 in c:\\users\\maury\\appdata\\local\\programs\\python\\python312\\lib\\site-packages (from mediapipe) (25.1.0)\n",
            "Requirement already satisfied: flatbuffers>=2.0 in c:\\users\\maury\\appdata\\local\\programs\\python\\python312\\lib\\site-packages (from mediapipe) (25.2.10)\n",
            "Requirement already satisfied: jax in c:\\users\\maury\\appdata\\local\\programs\\python\\python312\\lib\\site-packages (from mediapipe) (0.5.0)\n",
            "Requirement already satisfied: jaxlib in c:\\users\\maury\\appdata\\local\\programs\\python\\python312\\lib\\site-packages (from mediapipe) (0.5.0)\n",
            "Requirement already satisfied: matplotlib in c:\\users\\maury\\appdata\\local\\programs\\python\\python312\\lib\\site-packages (from mediapipe) (3.10.0)\n",
            "Requirement already satisfied: opencv-contrib-python in c:\\users\\maury\\appdata\\local\\programs\\python\\python312\\lib\\site-packages (from mediapipe) (4.11.0.86)\n",
            "Requirement already satisfied: protobuf<5,>=4.25.3 in c:\\users\\maury\\appdata\\local\\programs\\python\\python312\\lib\\site-packages (from mediapipe) (4.25.6)\n",
            "Requirement already satisfied: sounddevice>=0.4.4 in c:\\users\\maury\\appdata\\local\\programs\\python\\python312\\lib\\site-packages (from mediapipe) (0.5.1)\n",
            "Requirement already satisfied: sentencepiece in c:\\users\\maury\\appdata\\local\\programs\\python\\python312\\lib\\site-packages (from mediapipe) (0.2.0)\n",
            "Requirement already satisfied: threadpoolctl>=3.1.0 in c:\\users\\maury\\appdata\\local\\programs\\python\\python312\\lib\\site-packages (from scikit-learn) (3.5.0)\n",
            "Requirement already satisfied: llvmlite<0.45,>=0.44.0dev0 in c:\\users\\maury\\appdata\\local\\programs\\python\\python312\\lib\\site-packages (from numba>=0.51.0->librosa) (0.44.0)\n",
            "Requirement already satisfied: platformdirs>=2.5.0 in c:\\users\\maury\\appdata\\roaming\\python\\python312\\site-packages (from pooch>=1.1->librosa) (4.2.2)\n",
            "Requirement already satisfied: charset-normalizer<4,>=2 in c:\\users\\maury\\appdata\\local\\programs\\python\\python312\\lib\\site-packages (from requests->transformers) (3.4.1)\n",
            "Requirement already satisfied: idna<4,>=2.5 in c:\\users\\maury\\appdata\\local\\programs\\python\\python312\\lib\\site-packages (from requests->transformers) (3.10)\n",
            "Requirement already satisfied: urllib3<3,>=1.21.1 in c:\\users\\maury\\appdata\\local\\programs\\python\\python312\\lib\\site-packages (from requests->transformers) (2.3.0)\n",
            "Requirement already satisfied: certifi>=2017.4.17 in c:\\users\\maury\\appdata\\local\\programs\\python\\python312\\lib\\site-packages (from requests->transformers) (2025.1.31)\n",
            "Requirement already satisfied: CFFI>=1.0 in c:\\users\\maury\\appdata\\local\\programs\\python\\python312\\lib\\site-packages (from sounddevice>=0.4.4->mediapipe) (1.17.1)\n",
            "Requirement already satisfied: colorama in c:\\users\\maury\\appdata\\roaming\\python\\python312\\site-packages (from tqdm>=4.27->transformers) (0.4.6)\n",
            "Requirement already satisfied: ml_dtypes>=0.4.0 in c:\\users\\maury\\appdata\\local\\programs\\python\\python312\\lib\\site-packages (from jax->mediapipe) (0.5.1)\n",
            "Requirement already satisfied: opt_einsum in c:\\users\\maury\\appdata\\local\\programs\\python\\python312\\lib\\site-packages (from jax->mediapipe) (3.4.0)\n",
            "Requirement already satisfied: MarkupSafe>=2.0 in c:\\users\\maury\\appdata\\local\\programs\\python\\python312\\lib\\site-packages (from jinja2->torch) (3.0.2)\n",
            "Requirement already satisfied: contourpy>=1.0.1 in c:\\users\\maury\\appdata\\local\\programs\\python\\python312\\lib\\site-packages (from matplotlib->mediapipe) (1.3.1)\n",
            "Requirement already satisfied: cycler>=0.10 in c:\\users\\maury\\appdata\\local\\programs\\python\\python312\\lib\\site-packages (from matplotlib->mediapipe) (0.12.1)\n",
            "Requirement already satisfied: fonttools>=4.22.0 in c:\\users\\maury\\appdata\\local\\programs\\python\\python312\\lib\\site-packages (from matplotlib->mediapipe) (4.56.0)\n",
            "Requirement already satisfied: kiwisolver>=1.3.1 in c:\\users\\maury\\appdata\\local\\programs\\python\\python312\\lib\\site-packages (from matplotlib->mediapipe) (1.4.8)\n",
            "Requirement already satisfied: pyparsing>=2.3.1 in c:\\users\\maury\\appdata\\local\\programs\\python\\python312\\lib\\site-packages (from matplotlib->mediapipe) (3.2.1)\n",
            "Requirement already satisfied: python-dateutil>=2.7 in c:\\users\\maury\\appdata\\local\\programs\\python\\python312\\lib\\site-packages (from matplotlib->mediapipe) (2.9.0.post0)\n",
            "Requirement already satisfied: pycparser in c:\\users\\maury\\appdata\\local\\programs\\python\\python312\\lib\\site-packages (from CFFI>=1.0->sounddevice>=0.4.4->mediapipe) (2.22)\n",
            "Requirement already satisfied: six>=1.5 in c:\\users\\maury\\appdata\\local\\programs\\python\\python312\\lib\\site-packages (from python-dateutil>=2.7->matplotlib->mediapipe) (1.17.0)\n",
            "Note: you may need to restart the kernel to use updated packages.\n"
          ]
        }
      ],
      "source": [
        "# Cell 1: Install required libraries (run this in your terminal or uncomment if running in a script)\n",
        "%pip install moviepy librosa transformers torch torchvision mediapipe opencv-python scikit-learn\n"
      ]
    },
    {
      "cell_type": "code",
      "execution_count": 1,
      "metadata": {
        "id": "Sj6cnoLO-ckF"
      },
      "outputs": [
        {
          "ename": "ModuleNotFoundError",
          "evalue": "No module named 'librosa'",
          "output_type": "error",
          "traceback": [
            "\u001b[1;31m---------------------------------------------------------------------------\u001b[0m",
            "\u001b[1;31mModuleNotFoundError\u001b[0m                       Traceback (most recent call last)",
            "Cell \u001b[1;32mIn[1], line 4\u001b[0m\n\u001b[0;32m      2\u001b[0m \u001b[38;5;28;01mimport\u001b[39;00m\u001b[38;5;250m \u001b[39m\u001b[38;5;21;01mos\u001b[39;00m\n\u001b[0;32m      3\u001b[0m \u001b[38;5;28;01mimport\u001b[39;00m\u001b[38;5;250m \u001b[39m\u001b[38;5;21;01mnumpy\u001b[39;00m\u001b[38;5;250m \u001b[39m\u001b[38;5;28;01mas\u001b[39;00m\u001b[38;5;250m \u001b[39m\u001b[38;5;21;01mnp\u001b[39;00m\n\u001b[1;32m----> 4\u001b[0m \u001b[38;5;28;01mimport\u001b[39;00m\u001b[38;5;250m \u001b[39m\u001b[38;5;21;01mlibrosa\u001b[39;00m\n\u001b[0;32m      5\u001b[0m \u001b[38;5;28;01mfrom\u001b[39;00m\u001b[38;5;250m \u001b[39m\u001b[38;5;21;01mmoviepy\u001b[39;00m\u001b[38;5;250m \u001b[39m\u001b[38;5;28;01mimport\u001b[39;00m VideoFileClip\n\u001b[0;32m      6\u001b[0m \u001b[38;5;28;01mfrom\u001b[39;00m\u001b[38;5;250m \u001b[39m\u001b[38;5;21;01mtransformers\u001b[39;00m\u001b[38;5;250m \u001b[39m\u001b[38;5;28;01mimport\u001b[39;00m Wav2Vec2Processor, Wav2Vec2Model\n",
            "\u001b[1;31mModuleNotFoundError\u001b[0m: No module named 'librosa'"
          ]
        }
      ],
      "source": [
        "# Cell 2: Import necessary libraries\n",
        "import os\n",
        "import numpy as np\n",
        "import librosa\n",
        "from moviepy import VideoFileClip\n",
        "from transformers import Wav2Vec2Processor, Wav2Vec2Model\n",
        "import torch\n",
        "import mediapipe as mp\n",
        "import cv2\n",
        "from sklearn.decomposition import PCA"
      ]
    },
    {
      "cell_type": "code",
      "execution_count": null,
      "metadata": {
        "id": "z2H5X8If-e4V"
      },
      "outputs": [],
      "source": [
        "\n",
        "# Cell 3: Define function to extract audio from video\n",
        "def extract_audio(video_path, output_audio_path=\"temp_audio.wav\"):\n",
        "    video = VideoFileClip(video_path)\n",
        "    video.audio.write_audiofile(output_audio_path, codec='pcm_s16le')\n",
        "    return output_audio_path"
      ]
    },
    {
      "cell_type": "code",
      "execution_count": null,
      "metadata": {
        "id": "K7dYiPwI-lnF"
      },
      "outputs": [],
      "source": [
        "# Cell 4: Define function to process audio using Wav2Vec2\n",
        "def process_audio(audio_path):\n",
        "    processor = Wav2Vec2Processor.from_pretrained(\"facebook/wav2vec2-base-960h\")\n",
        "    model = Wav2Vec2Model.from_pretrained(\"facebook/wav2vec2-base-960h\")\n",
        "    waveform, sample_rate = librosa.load(audio_path, sr=16000)\n",
        "    inputs = processor(waveform, sampling_rate=sample_rate, return_tensors=\"pt\")\n",
        "    with torch.no_grad():\n",
        "        outputs = model(**inputs)\n",
        "    audio_embeddings = outputs.last_hidden_state.mean(dim=1).squeeze().numpy()\n",
        "    return audio_embeddings"
      ]
    },
    {
      "cell_type": "code",
      "execution_count": null,
      "metadata": {
        "id": "VOTQuejK-t6V"
      },
      "outputs": [],
      "source": [
        "# Cell 5: Define function to extract visual features (lip movements)\n",
        "def extract_visual_features(video_path):\n",
        "    \"\"\"\n",
        "    Extracts visual features (e.g., lip movements) from the video using MediaPipe Face Mesh.\n",
        "    :param video_path: Path to the video file.\n",
        "    :return: Visual embeddings (mean of lip landmarks over all frames).\n",
        "    \"\"\"\n",
        "    # Initialize MediaPipe Face Mesh\n",
        "    mp_face_mesh = mp.solutions.face_mesh\n",
        "    face_mesh = mp_face_mesh.FaceMesh(static_image_mode=False, max_num_faces=1)\n",
        "\n",
        "    # Load video frames\n",
        "    video = VideoFileClip(video_path)\n",
        "    frames = [frame for frame in video.iter_frames()]\n",
        "\n",
        "    # Extract lip landmarks from each frame\n",
        "    lip_landmarks = []\n",
        "    for frame in frames:\n",
        "        # Convert frame to RGB\n",
        "        frame_rgb = cv2.cvtColor(frame, cv2.COLOR_BGR2RGB)\n",
        "\n",
        "        # Process frame with MediaPipe\n",
        "        results = face_mesh.process(frame_rgb)\n",
        "        if results.multi_face_landmarks:\n",
        "            # Extract lip landmarks (indices 0-19 correspond to lips)\n",
        "            lip_points = [results.multi_face_landmarks[0].landmark[i] for i in range(0, 20)]\n",
        "            lip_coords = [(p.x, p.y, p.z) for p in lip_points]\n",
        "            lip_landmarks.append(np.array(lip_coords).flatten())\n",
        "\n",
        "    # Compute mean of lip landmarks across all frames\n",
        "    if lip_landmarks:\n",
        "        visual_embeddings = np.mean(lip_landmarks, axis=0)\n",
        "    else:\n",
        "        raise ValueError(\"No face detected in the video.\")\n",
        "\n",
        "    return visual_embeddings\n",
        "\n",
        "# Cell 6: Define function to compute mismatch score\n",
        "def compute_mismatch_score(audio_embeddings, visual_embeddings):\n",
        "    \"\"\"\n",
        "    Computes the mismatch score between audio and visual embeddings.\n",
        "    :param audio_embeddings: Audio embeddings (shape: (768,)).\n",
        "    :param visual_embeddings: Visual embeddings (shape: (60,)).\n",
        "    :return: Mismatch score.\n",
        "    \"\"\"\n",
        "    # Normalize embeddings\n",
        "    audio_embeddings = audio_embeddings / np.linalg.norm(audio_embeddings)\n",
        "\n",
        "    # Pad visual embeddings to match audio embeddings size\n",
        "    padded_visual_embeddings = np.pad(\n",
        "        visual_embeddings,\n",
        "        (0, audio_embeddings.shape[0] - visual_embeddings.shape[0]),\n",
        "        mode='constant'\n",
        "    )\n",
        "    padded_visual_embeddings = padded_visual_embeddings / np.linalg.norm(padded_visual_embeddings)\n",
        "\n",
        "    # Compute cosine similarity\n",
        "    similarity = np.dot(audio_embeddings, padded_visual_embeddings)\n",
        "    mismatch_score = 1 - similarity  # Higher score indicates higher mismatch\n",
        "\n",
        "    return mismatch_score"
      ]
    },
    {
      "cell_type": "code",
      "execution_count": null,
      "metadata": {
        "id": "XzktrSH9-wop"
      },
      "outputs": [],
      "source": [
        "\n",
        "# Cell 6: Define function to compute mismatch score\n",
        "def compute_mismatch_score(audio_embeddings, visual_embeddings):\n",
        "    audio_embeddings = audio_embeddings / np.linalg.norm(audio_embeddings)\n",
        "    visual_embeddings = visual_embeddings / np.linalg.norm(visual_embeddings)\n",
        "    similarity = np.dot(audio_embeddings, visual_embeddings)\n",
        "    mismatch_score = 1 - similarity\n",
        "    return mismatch_score"
      ]
    },
    {
      "cell_type": "code",
      "execution_count": null,
      "metadata": {
        "id": "sm-i5LHW-z18"
      },
      "outputs": [],
      "source": [
        "\n",
        "# Cell 7: Main function to analyze video\n",
        "def analyze_video(video_path):\n",
        "    audio_path = extract_audio(video_path)\n",
        "    audio_embeddings = process_audio(audio_path)\n",
        "    visual_embeddings = extract_visual_features(video_path)\n",
        "    mismatch_score = compute_mismatch_score(audio_embeddings, visual_embeddings)\n",
        "    if os.path.exists(audio_path):\n",
        "        os.remove(audio_path)\n",
        "    return mismatch_score"
      ]
    },
    {
      "cell_type": "code",
      "execution_count": null,
      "metadata": {
        "colab": {
          "base_uri": "https://localhost:8080/"
        },
        "id": "IzBNKSRs-_9t",
        "outputId": "4556e824-6969-4e3b-ccad-5ee2fdd0be7e"
      },
      "outputs": [],
      "source": [
        "# Cell 8: Run analysis on a sample video\n",
        "if __name__ == \"__main__\":\n",
        "    video_path = \"000471.mp4\"  # Replace with your video file path\n",
        "    mismatch_score = analyze_video(video_path)\n",
        "    print(f\"Mismatch Score: {mismatch_score:.4f}\")\n",
        "    if mismatch_score < 0.5:\n",
        "        print(\"Result: Audio and visual content are well-aligned.\")\n",
        "    elif 0.5 <= mismatch_score <= 1:\n",
        "        print(\"Result: Moderate mismatch detected. Check for minor inconsistencies.\")\n",
        "    else:\n",
        "        print(\"Result: High mismatch detected. Audio and visual content are inconsistent.\")"
      ]
    }
  ],
  "metadata": {
    "colab": {
      "provenance": []
    },
    "kernelspec": {
      "display_name": "Python 3",
      "name": "python3"
    },
    "language_info": {
      "codemirror_mode": {
        "name": "ipython",
        "version": 3
      },
      "file_extension": ".py",
      "mimetype": "text/x-python",
      "name": "python",
      "nbconvert_exporter": "python",
      "pygments_lexer": "ipython3",
      "version": "3.12.4"
    }
  },
  "nbformat": 4,
  "nbformat_minor": 0
}
