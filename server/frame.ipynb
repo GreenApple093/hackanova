{
  "cells": [
    {
      "cell_type": "markdown",
      "metadata": {
        "id": "a25zBnsv1ODR"
      },
      "source": [
        "<h1>pip</h1>"
      ]
    },
    {
      "cell_type": "code",
      "execution_count": 9,
      "metadata": {
        "colab": {
          "base_uri": "https://localhost:8080/"
        },
        "id": "7LZ-IyMGuVeF",
        "outputId": "9e638edb-cf11-4f24-9afb-44b241d8e813"
      },
      "outputs": [
        {
          "name": "stdout",
          "output_type": "stream",
          "text": [
            "Requirement already satisfied: torch in c:\\users\\harshal shah\\appdata\\roaming\\python\\python312\\site-packages (2.6.0)\n",
            "Requirement already satisfied: torchvision in c:\\users\\harshal shah\\appdata\\roaming\\python\\python312\\site-packages (0.21.0)\n",
            "Requirement already satisfied: opencv-python in c:\\users\\harshal shah\\appdata\\roaming\\python\\python312\\site-packages (4.11.0.86)\n",
            "Requirement already satisfied: matplotlib in c:\\users\\harshal shah\\appdata\\roaming\\python\\python312\\site-packages (3.10.0)\n",
            "Requirement already satisfied: facenet-pytorch in c:\\python312\\lib\\site-packages (2.5.3)\n",
            "Requirement already satisfied: moviepy in c:\\python312\\lib\\site-packages (2.1.2)\n",
            "Requirement already satisfied: librosa in c:\\python312\\lib\\site-packages (0.10.2.post1)\n",
            "Requirement already satisfied: transformers in c:\\python312\\lib\\site-packages (4.49.0)\n",
            "Requirement already satisfied: mediapipe in c:\\python312\\lib\\site-packages (0.10.21)\n",
            "Requirement already satisfied: filelock in c:\\users\\harshal shah\\appdata\\roaming\\python\\python312\\site-packages (from torch) (3.17.0)\n",
            "Requirement already satisfied: typing-extensions>=4.10.0 in c:\\users\\harshal shah\\appdata\\roaming\\python\\python312\\site-packages (from torch) (4.12.2)\n",
            "Requirement already satisfied: networkx in c:\\users\\harshal shah\\appdata\\roaming\\python\\python312\\site-packages (from torch) (3.4.2)\n",
            "Requirement already satisfied: jinja2 in c:\\users\\harshal shah\\appdata\\roaming\\python\\python312\\site-packages (from torch) (3.1.5)\n",
            "Requirement already satisfied: fsspec in c:\\users\\harshal shah\\appdata\\roaming\\python\\python312\\site-packages (from torch) (2025.2.0)\n",
            "Requirement already satisfied: setuptools in c:\\users\\harshal shah\\appdata\\roaming\\python\\python312\\site-packages (from torch) (75.8.0)\n",
            "Requirement already satisfied: sympy==1.13.1 in c:\\users\\harshal shah\\appdata\\roaming\\python\\python312\\site-packages (from torch) (1.13.1)\n",
            "Requirement already satisfied: mpmath<1.4,>=1.1.0 in c:\\users\\harshal shah\\appdata\\roaming\\python\\python312\\site-packages (from sympy==1.13.1->torch) (1.3.0)\n",
            "Requirement already satisfied: numpy in c:\\users\\harshal shah\\appdata\\roaming\\python\\python312\\site-packages (from torchvision) (2.1.0)\n",
            "Requirement already satisfied: pillow!=8.3.*,>=5.3.0 in c:\\python312\\lib\\site-packages (from torchvision) (10.4.0)\n",
            "Requirement already satisfied: contourpy>=1.0.1 in c:\\users\\harshal shah\\appdata\\roaming\\python\\python312\\site-packages (from matplotlib) (1.3.1)\n",
            "Requirement already satisfied: cycler>=0.10 in c:\\users\\harshal shah\\appdata\\roaming\\python\\python312\\site-packages (from matplotlib) (0.12.1)\n",
            "Requirement already satisfied: fonttools>=4.22.0 in c:\\python312\\lib\\site-packages (from matplotlib) (4.55.8)\n",
            "Requirement already satisfied: kiwisolver>=1.3.1 in c:\\python312\\lib\\site-packages (from matplotlib) (1.4.8)\n",
            "Requirement already satisfied: packaging>=20.0 in c:\\python312\\lib\\site-packages (from matplotlib) (24.2)\n",
            "Requirement already satisfied: pyparsing>=2.3.1 in c:\\python312\\lib\\site-packages (from matplotlib) (3.2.1)\n",
            "Requirement already satisfied: python-dateutil>=2.7 in c:\\users\\harshal shah\\appdata\\roaming\\python\\python312\\site-packages (from matplotlib) (2.9.0.post0)\n",
            "Requirement already satisfied: requests in c:\\users\\harshal shah\\appdata\\roaming\\python\\python312\\site-packages (from facenet-pytorch) (2.32.3)\n",
            "Requirement already satisfied: decorator<6.0,>=4.0.2 in c:\\python312\\lib\\site-packages (from moviepy) (5.1.1)\n",
            "Requirement already satisfied: imageio<3.0,>=2.5 in c:\\python312\\lib\\site-packages (from moviepy) (2.37.0)\n",
            "Requirement already satisfied: imageio_ffmpeg>=0.2.0 in c:\\python312\\lib\\site-packages (from moviepy) (0.6.0)\n",
            "Requirement already satisfied: proglog<=1.0.0 in c:\\python312\\lib\\site-packages (from moviepy) (0.1.10)\n",
            "Requirement already satisfied: python-dotenv>=0.10 in c:\\python312\\lib\\site-packages (from moviepy) (1.0.1)\n",
            "Requirement already satisfied: audioread>=2.1.9 in c:\\python312\\lib\\site-packages (from librosa) (3.0.1)\n",
            "Requirement already satisfied: scipy>=1.2.0 in c:\\users\\harshal shah\\appdata\\roaming\\python\\python312\\site-packages (from librosa) (1.15.2)\n",
            "Requirement already satisfied: scikit-learn>=0.20.0 in c:\\python312\\lib\\site-packages (from librosa) (1.6.1)\n",
            "Requirement already satisfied: joblib>=0.14 in c:\\python312\\lib\\site-packages (from librosa) (1.4.2)\n",
            "Requirement already satisfied: numba>=0.51.0 in c:\\python312\\lib\\site-packages (from librosa) (0.61.0)\n",
            "Requirement already satisfied: soundfile>=0.12.1 in c:\\python312\\lib\\site-packages (from librosa) (0.13.1)\n",
            "Requirement already satisfied: pooch>=1.1 in c:\\python312\\lib\\site-packages (from librosa) (1.8.2)\n",
            "Requirement already satisfied: soxr>=0.3.2 in c:\\python312\\lib\\site-packages (from librosa) (0.5.0.post1)\n",
            "Requirement already satisfied: lazy-loader>=0.1 in c:\\python312\\lib\\site-packages (from librosa) (0.4)\n",
            "Requirement already satisfied: msgpack>=1.0 in c:\\python312\\lib\\site-packages (from librosa) (1.1.0)\n",
            "Requirement already satisfied: huggingface-hub<1.0,>=0.26.0 in c:\\python312\\lib\\site-packages (from transformers) (0.29.1)\n",
            "Requirement already satisfied: pyyaml>=5.1 in c:\\users\\harshal shah\\appdata\\roaming\\python\\python312\\site-packages (from transformers) (6.0.2)\n",
            "Requirement already satisfied: regex!=2019.12.17 in c:\\python312\\lib\\site-packages (from transformers) (2024.11.6)\n",
            "Requirement already satisfied: tokenizers<0.22,>=0.21 in c:\\python312\\lib\\site-packages (from transformers) (0.21.0)\n",
            "Requirement already satisfied: safetensors>=0.4.1 in c:\\python312\\lib\\site-packages (from transformers) (0.5.2)\n",
            "Requirement already satisfied: tqdm>=4.27 in c:\\users\\harshal shah\\appdata\\roaming\\python\\python312\\site-packages (from transformers) (4.67.1)\n",
            "Requirement already satisfied: absl-py in c:\\users\\harshal shah\\appdata\\roaming\\python\\python312\\site-packages (from mediapipe) (2.1.0)\n",
            "Requirement already satisfied: attrs>=19.1.0 in c:\\users\\harshal shah\\appdata\\roaming\\python\\python312\\site-packages (from mediapipe) (25.1.0)\n",
            "Requirement already satisfied: flatbuffers>=2.0 in c:\\python312\\lib\\site-packages (from mediapipe) (25.2.10)\n",
            "Requirement already satisfied: jax in c:\\python312\\lib\\site-packages (from mediapipe) (0.5.0)\n",
            "Requirement already satisfied: jaxlib in c:\\python312\\lib\\site-packages (from mediapipe) (0.5.0)\n",
            "Collecting numpy (from torchvision)\n",
            "  Using cached numpy-1.26.4-cp312-cp312-win_amd64.whl.metadata (61 kB)\n",
            "Requirement already satisfied: opencv-contrib-python in c:\\python312\\lib\\site-packages (from mediapipe) (4.11.0.86)\n",
            "Requirement already satisfied: protobuf<5,>=4.25.3 in c:\\python312\\lib\\site-packages (from mediapipe) (4.25.6)\n",
            "Requirement already satisfied: sounddevice>=0.4.4 in c:\\python312\\lib\\site-packages (from mediapipe) (0.5.1)\n",
            "Requirement already satisfied: sentencepiece in c:\\python312\\lib\\site-packages (from mediapipe) (0.2.0)\n",
            "Requirement already satisfied: llvmlite<0.45,>=0.44.0dev0 in c:\\python312\\lib\\site-packages (from numba>=0.51.0->librosa) (0.44.0)\n",
            "Requirement already satisfied: platformdirs>=2.5.0 in c:\\python312\\lib\\site-packages (from pooch>=1.1->librosa) (4.3.6)\n",
            "Requirement already satisfied: six>=1.5 in c:\\python312\\lib\\site-packages (from python-dateutil>=2.7->matplotlib) (1.17.0)\n",
            "Requirement already satisfied: charset-normalizer<4,>=2 in c:\\users\\harshal shah\\appdata\\roaming\\python\\python312\\site-packages (from requests->facenet-pytorch) (3.4.1)\n",
            "Requirement already satisfied: idna<4,>=2.5 in c:\\users\\harshal shah\\appdata\\roaming\\python\\python312\\site-packages (from requests->facenet-pytorch) (3.10)\n",
            "Requirement already satisfied: urllib3<3,>=1.21.1 in c:\\users\\harshal shah\\appdata\\roaming\\python\\python312\\site-packages (from requests->facenet-pytorch) (2.3.0)\n",
            "Requirement already satisfied: certifi>=2017.4.17 in c:\\users\\harshal shah\\appdata\\roaming\\python\\python312\\site-packages (from requests->facenet-pytorch) (2025.1.31)\n",
            "Requirement already satisfied: threadpoolctl>=3.1.0 in c:\\python312\\lib\\site-packages (from scikit-learn>=0.20.0->librosa) (3.5.0)\n",
            "Requirement already satisfied: CFFI>=1.0 in c:\\python312\\lib\\site-packages (from sounddevice>=0.4.4->mediapipe) (1.17.1)\n",
            "Requirement already satisfied: colorama in c:\\users\\harshal shah\\appdata\\roaming\\python\\python312\\site-packages (from tqdm>=4.27->transformers) (0.4.6)\n",
            "Requirement already satisfied: ml_dtypes>=0.4.0 in c:\\users\\harshal shah\\appdata\\roaming\\python\\python312\\site-packages (from jax->mediapipe) (0.4.1)\n",
            "Requirement already satisfied: opt_einsum in c:\\python312\\lib\\site-packages (from jax->mediapipe) (3.4.0)\n",
            "Requirement already satisfied: MarkupSafe>=2.0 in c:\\users\\harshal shah\\appdata\\roaming\\python\\python312\\site-packages (from jinja2->torch) (3.0.2)\n",
            "Requirement already satisfied: pycparser in c:\\python312\\lib\\site-packages (from CFFI>=1.0->sounddevice>=0.4.4->mediapipe) (2.22)\n",
            "Using cached numpy-1.26.4-cp312-cp312-win_amd64.whl (15.5 MB)\n",
            "Installing collected packages: numpy\n",
            "  Attempting uninstall: numpy\n",
            "    Found existing installation: numpy 2.1.0\n",
            "    Uninstalling numpy-2.1.0:\n",
            "      Successfully uninstalled numpy-2.1.0\n",
            "  Rolling back uninstall of numpy\n",
            "  Moving to c:\\users\\harshal shah\\appdata\\roaming\\python\\python312\\scripts\\f2py.exe\n",
            "   from C:\\Users\\Harshal Shah\\AppData\\Local\\Temp\\pip-uninstall-igugvlfv\\f2py.exe\n",
            "  Moving to c:\\users\\harshal shah\\appdata\\roaming\\python\\python312\\scripts\\numpy-config.exe\n",
            "   from C:\\Users\\Harshal Shah\\AppData\\Local\\Temp\\pip-uninstall-igugvlfv\\numpy-config.exe\n",
            "  Moving to c:\\users\\harshal shah\\appdata\\roaming\\python\\python312\\site-packages\\numpy-2.1.0-cp312-cp312-win_amd64.whl\n",
            "   from C:\\Users\\Harshal Shah\\AppData\\Local\\Temp\\pip-uninstall-uwvkjfqq\\numpy-2.1.0-cp312-cp312-win_amd64.whl\n",
            "  Moving to c:\\users\\harshal shah\\appdata\\roaming\\python\\python312\\site-packages\\numpy-2.1.0.dist-info\\\n",
            "   from C:\\Users\\Harshal Shah\\AppData\\Roaming\\Python\\Python312\\site-packages\\~umpy-2.1.0.dist-info\n",
            "  Moving to c:\\users\\harshal shah\\appdata\\roaming\\python\\python312\\site-packages\\numpy.libs\\\n",
            "   from C:\\Users\\Harshal Shah\\AppData\\Roaming\\Python\\Python312\\site-packages\\~umpy.libs\n",
            "  Moving to c:\\users\\harshal shah\\appdata\\roaming\\python\\python312\\site-packages\\numpy\\\n",
            "   from C:\\Users\\Harshal Shah\\AppData\\Roaming\\Python\\Python312\\site-packages\\~umpy\n",
            "Note: you may need to restart the kernel to use updated packages.\n"
          ]
        },
        {
          "name": "stderr",
          "output_type": "stream",
          "text": [
            "  WARNING: Failed to write executable - trying to use .deleteme logic\n",
            "ERROR: Could not install packages due to an OSError: [WinError 2] The system cannot find the file specified: 'c:\\\\Python312\\\\Scripts\\\\f2py.exe' -> 'c:\\\\Python312\\\\Scripts\\\\f2py.exe.deleteme'\n",
            "\n"
          ]
        }
      ],
      "source": [
        "# Install necessary libraries\n",
        "%pip install torch torchvision opencv-python matplotlib facenet-pytorch moviepy librosa transformers mediapipe"
      ]
    },
    {
      "cell_type": "markdown",
      "metadata": {
        "id": "Jhrq8B191SkX"
      },
      "source": [
        "<h1>Dependencies</h1>"
      ]
    },
    {
      "cell_type": "code",
      "execution_count": 10,
      "metadata": {
        "colab": {
          "base_uri": "https://localhost:8080/"
        },
        "id": "04ZIgR010zdq",
        "outputId": "7dbee81c-83a7-4319-fb0a-0e87a5be3e4d"
      },
      "outputs": [
        {
          "name": "stdout",
          "output_type": "stream",
          "text": [
            "Using device: cpu\n"
          ]
        }
      ],
      "source": [
        "import torch\n",
        "import torchvision.models as models\n",
        "import cv2\n",
        "import numpy as np\n",
        "from scipy.spatial.distance import cosine\n",
        "from torchvision import transforms\n",
        "import torchvision.transforms as transforms\n",
        "from facenet_pytorch import MTCNN\n",
        "from PIL import Image\n",
        "import os\n",
        "import librosa\n",
        "from moviepy import VideoFileClip\n",
        "from transformers import Wav2Vec2Processor, Wav2Vec2Model\n",
        "import mediapipe as mp\n",
        "import matplotlib.pyplot as plt\n",
        "\n",
        "device = torch.device('cuda' if torch.cuda.is_available() else 'cpu')\n",
        "print(f\"Using device: {device}\")"
      ]
    },
    {
      "cell_type": "markdown",
      "metadata": {
        "id": "SD_CmpMP1XEZ"
      },
      "source": [
        "<h1>Frame Anomalies</h1>"
      ]
    },
    {
      "cell_type": "markdown",
      "metadata": {
        "id": "T_zNr5-A1dJc"
      },
      "source": [
        "<h4>Preprocessing</h4>"
      ]
    },
    {
      "cell_type": "code",
      "execution_count": 11,
      "metadata": {
        "id": "rd6hXuTqwBNB"
      },
      "outputs": [],
      "source": [
        "# Define preprocessing transformations with smaller resolution\n",
        "transform = transforms.Compose([\n",
        "    transforms.ToPILImage(),\n",
        "    transforms.Resize((112, 112)),  # Smaller input size for faster processing\n",
        "    transforms.ToTensor(),\n",
        "    transforms.Normalize(mean=[0.485, 0.456, 0.406], std=[0.229, 0.224, 0.225])  # Normalize the image\n",
        "])\n",
        "\n",
        "# Function to preprocess a single frame\n",
        "def preprocess_frame(frame):\n",
        "    frame = transform(frame).unsqueeze(0)  # Add batch dimension\n",
        "    return frame"
      ]
    },
    {
      "cell_type": "markdown",
      "metadata": {
        "id": "N_AyMk3m1nPu"
      },
      "source": [
        "<h4>Loading pre trained model</h4>"
      ]
    },
    {
      "cell_type": "code",
      "execution_count": 12,
      "metadata": {
        "id": "No_LdleSuW6V"
      },
      "outputs": [
        {
          "name": "stderr",
          "output_type": "stream",
          "text": [
            "C:\\Users\\Harshal Shah\\AppData\\Roaming\\Python\\Python312\\site-packages\\torchvision\\models\\_utils.py:208: UserWarning: The parameter 'pretrained' is deprecated since 0.13 and may be removed in the future, please use 'weights' instead.\n",
            "  warnings.warn(\n",
            "C:\\Users\\Harshal Shah\\AppData\\Roaming\\Python\\Python312\\site-packages\\torchvision\\models\\_utils.py:223: UserWarning: Arguments other than a weight enum or `None` for 'weights' are deprecated since 0.13 and may be removed in the future. The current behavior is equivalent to passing `weights=MobileNet_V2_Weights.IMAGENET1K_V1`. You can also use `weights=MobileNet_V2_Weights.DEFAULT` to get the most up-to-date weights.\n",
            "  warnings.warn(msg)\n"
          ]
        }
      ],
      "source": [
        "# Load a smaller pre-trained model (e.g., MobileNet)\n",
        "model = models.mobilenet_v2(pretrained=True)\n",
        "model = torch.nn.Sequential(*list(model.children())[:-1])  # Remove the final classification layer\n",
        "model.eval()\n",
        "\n",
        "# Function to extract features from a frame using the pre-trained model\n",
        "def extract_features(frame, model):\n",
        "    with torch.no_grad():\n",
        "        features = model(frame)\n",
        "    return features.squeeze().numpy().flatten()  # Flatten the feature vector to 1D\n",
        "\n",
        "# Threshold for anomaly detection (you may need to tune this based on your data)\n",
        "ANOMALY_THRESHOLD = 0.85"
      ]
    },
    {
      "cell_type": "markdown",
      "metadata": {
        "id": "EgRBVtHI1tMF"
      },
      "source": [
        "<h4>Detection</h4>"
      ]
    },
    {
      "cell_type": "code",
      "execution_count": 13,
      "metadata": {
        "id": "GtMHfc2Lu_Xh"
      },
      "outputs": [],
      "source": [
        "# Function to calculate cosine similarity between two feature vectors\n",
        "def cosine_similarity(vec1, vec2):\n",
        "    return 1 - cosine(vec1, vec2)\n",
        "\n",
        "# Function to detect frame anomalies and display only abnormal frames\n",
        "def detect_frame_anomalies(video_path, skip_frames=5):\n",
        "    cap = cv2.VideoCapture(video_path)\n",
        "    if not cap.isOpened():\n",
        "        print(f\"Error: Could not open video at path {video_path}\")\n",
        "        return 0, 0\n",
        "\n",
        "    prev_features = None\n",
        "    frame_count = 0\n",
        "    total_frames = 0\n",
        "    abnormal_frames = 0\n",
        "\n",
        "    # Adjust the ANOMALY_THRESHOLD for better detection\n",
        "    ANOMALY_THRESHOLD = 0.85  # Consider lowering this value for more sensitivity\n",
        "\n",
        "    while cap.isOpened():\n",
        "        ret, frame = cap.read()\n",
        "        if not ret:\n",
        "            break\n",
        "\n",
        "        # Skip frames to reduce processing load\n",
        "        frame_count += 1\n",
        "        if frame_count % skip_frames != 0:\n",
        "            continue\n",
        "\n",
        "        # Increment total frame count\n",
        "        total_frames += 1\n",
        "\n",
        "        # Preprocess the frame\n",
        "        input_tensor = preprocess_frame(frame)\n",
        "\n",
        "        # Extract features using the pre-trained model\n",
        "        current_features = extract_features(input_tensor, model)\n",
        "\n",
        "        # Compare with previous frame's features\n",
        "        if prev_features is not None:\n",
        "            similarity = cosine_similarity(prev_features, current_features)\n",
        "\n",
        "            # Detect anomaly based on similarity threshold\n",
        "            if similarity < ANOMALY_THRESHOLD:\n",
        "                abnormal_frames += 1\n",
        "\n",
        "                # Display the abnormal frame\n",
        "                anomaly_status = \"Anomaly Detected\"\n",
        "                color = (0, 0, 255)  # Red color for anomalies\n",
        "                cv2.putText(frame, f\"Status: {anomaly_status}\", (10, 30), cv2.FONT_HERSHEY_SIMPLEX, 1, color, 2)\n",
        "\n",
        "                # Show the abnormal frame (optional: use cv2_imshow for Colab)\n",
        "                cv2.imshow(\"Frame\", frame)\n",
        "\n",
        "        # Update previous features\n",
        "        prev_features = current_features\n",
        "\n",
        "    cap.release()\n",
        "    return total_frames, abnormal_frames"
      ]
    },
    {
      "cell_type": "markdown",
      "metadata": {
        "id": "yjOBU6nD7awq"
      },
      "source": [
        "<h4>Testing</h4>"
      ]
    },
    {
      "cell_type": "code",
      "execution_count": 15,
      "metadata": {
        "colab": {
          "base_uri": "https://localhost:8080/",
          "height": 918
        },
        "id": "_WU85Z7uvTsP",
        "outputId": "47d16260-592c-4eb9-e49f-094947036208"
      },
      "outputs": [
        {
          "name": "stdout",
          "output_type": "stream",
          "text": [
            "Total Frames Processed: 25\n",
            "Total Abnormal Frames Detected: 1\n"
          ]
        }
      ],
      "source": [
        "# Test the function with your video file\n",
        "video_path = '000471.mp4'\n",
        "skip_frames = 5\n",
        "\n",
        "total_frames, abnormal_frames = detect_frame_anomalies(video_path, skip_frames)\n",
        "\n",
        "# Print the results\n",
        "print(f\"Total Frames Processed: {total_frames}\")\n",
        "print(f\"Total Abnormal Frames Detected: {abnormal_frames}\")"
      ]
    },
    {
      "cell_type": "code",
      "execution_count": 16,
      "metadata": {},
      "outputs": [
        {
          "name": "stdout",
          "output_type": "stream",
          "text": [
            "Results saved to results.json: {'total_frames': 25, 'distorted_faces': 0, 'total_frames_processed': 25, 'total_abnormal_frames_detected': 1, 'face_detection_rate': 97.47, 'cosine_similarity': -0.03, 'mismatch_score': 1.03, 'euclidean_distance': 1.43, 'analysis_result': 'High mismatch detected. Audio and visual content are inconsistent.'}\n"
          ]
        }
      ],
      "source": [
        "import os\n",
        "import json\n",
        "# Define the path for the results.json file\n",
        "results_file_path = 'results.json'\n",
        "\n",
        "# Prepare the data to be saved\n",
        "results_data = {\n",
        "    \"total_frames_processed\": total_frames,\n",
        "    \"total_abnormal_frames_detected\": abnormal_frames\n",
        "}\n",
        "\n",
        "try:\n",
        "    # If the file exists and is not empty, read and update existing data\n",
        "    if os.path.exists(results_file_path) and os.path.getsize(results_file_path) > 0:\n",
        "        with open(results_file_path, 'r') as file:\n",
        "            existing_data = json.load(file)\n",
        "        # Update the existing data with new results\n",
        "        existing_data.update(results_data)\n",
        "        results_data = existing_data\n",
        "    \n",
        "    # Write the results to the file\n",
        "    with open(results_file_path, 'w') as file:\n",
        "        json.dump(results_data, file, indent=4)\n",
        "    \n",
        "    print(f\"Results saved to {results_file_path}: {results_data}\")\n",
        "\n",
        "except Exception as e:\n",
        "    print(f\"Error handling results file: {str(e)}\")"
      ]
    },
    {
      "cell_type": "code",
      "execution_count": null,
      "metadata": {},
      "outputs": [],
      "source": []
    }
  ],
  "metadata": {
    "colab": {
      "provenance": []
    },
    "kernelspec": {
      "display_name": "Python 3",
      "name": "python3"
    },
    "language_info": {
      "codemirror_mode": {
        "name": "ipython",
        "version": 3
      },
      "file_extension": ".py",
      "mimetype": "text/x-python",
      "name": "python",
      "nbconvert_exporter": "python",
      "pygments_lexer": "ipython3",
      "version": "3.12.3"
    }
  },
  "nbformat": 4,
  "nbformat_minor": 0
}
