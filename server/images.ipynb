{
 "cells": [
  {
   "cell_type": "code",
   "execution_count": 18,
   "metadata": {},
   "outputs": [
    {
     "name": "stdout",
     "output_type": "stream",
     "text": [
      "[{'label': 'Fake', 'score': 0.737332284450531}, {'label': 'Real', 'score': 0.22237369418144226}]\n"
     ]
    }
   ],
   "source": [
    "from transformers import pipeline, ViTImageProcessor\n",
    "from PIL import Image\n",
    "\n",
    "# Load the image\n",
    "image_path = \"Screenshot 2025-02-21 161419.jpg\"\n",
    "image = Image.open(image_path).convert(\"RGB\")  # Ensure RGB format\n",
    "\n",
    "# Load the deepfake detection model pipeline\n",
    "pipe = pipeline(\"image-classification\", model=\"prithivMLmods/Deep-Fake-Detector-Model\")\n",
    "\n",
    "# Run inference on the image\n",
    "result = pipe(image)  # Pass the image directly\n",
    "print(result)  # Returns classification label (Real/Fake) and confidence score\n"
   ]
  },
  {
   "cell_type": "code",
   "execution_count": null,
   "metadata": {},
   "outputs": [],
   "source": []
  }
 ],
 "metadata": {
  "kernelspec": {
   "display_name": "base",
   "language": "python",
   "name": "python3"
  },
  "language_info": {
   "codemirror_mode": {
    "name": "ipython",
    "version": 3
   },
   "file_extension": ".py",
   "mimetype": "text/x-python",
   "name": "python",
   "nbconvert_exporter": "python",
   "pygments_lexer": "ipython3",
   "version": "3.12.4"
  }
 },
 "nbformat": 4,
 "nbformat_minor": 2
}
